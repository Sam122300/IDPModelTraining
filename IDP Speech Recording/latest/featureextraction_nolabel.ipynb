{
 "cells": [
  {
   "cell_type": "code",
   "execution_count": 4,
   "metadata": {},
   "outputs": [
    {
     "name": "stderr",
     "output_type": "stream",
     "text": [
      "c:\\Users\\OOi QI HAO\\anaconda3\\lib\\site-packages\\pydub\\utils.py:170: RuntimeWarning: Couldn't find ffmpeg or avconv - defaulting to ffmpeg, but may not work\n",
      "  warn(\"Couldn't find ffmpeg or avconv - defaulting to ffmpeg, but may not work\", RuntimeWarning)\n"
     ]
    }
   ],
   "source": [
    "import json\n",
    "import os\n",
    "import math\n",
    "import librosa\n",
    "import boto3\n",
    "import soundfile as sf\n",
    "from pydub import AudioSegment\n",
    "from app import *\n",
    "from flask_mysqldb import MySQL\n",
    "from io import BytesIO\n",
    "import io\n",
    "from werkzeug.utils import secure_filename\n",
    "from six.moves.urllib.request import urlopen"
   ]
  },
  {
   "cell_type": "code",
   "execution_count": 24,
   "metadata": {},
   "outputs": [
    {
     "name": "stdout",
     "output_type": "stream",
     "text": [
      "[('https://idp2g7.s3.ap-southeast-1.amazonaws.com/test/2022-05-12T08_22_39.866Z.wav',), ('https://idp2g7.s3.ap-southeast-1.amazonaws.com/test/00000024.wav',), ('https://idp2g7.s3.ap-southeast-1.amazonaws.com/test/00000089.wav',), ('https://idp2g7.s3.ap-southeast-1.amazonaws.com/test/00000050.wav',), ('https://idp2g7.s3.ap-southeast-1.amazonaws.com/test/00000038.wav',), ('https://idp2g7.s3.ap-southeast-1.amazonaws.com/test/00000021.wav',)]\n"
     ]
    }
   ],
   "source": [
    "import mysql.connector\n",
    "conn = mysql.connector.connect(user='9rBnbH2yWN', password='obqUHk85vy', host='remotemysql.com', database='9rBnbH2yWN')\n",
    "cur = conn.cursor()\n",
    "query = 'SELECT s3_obj_url FROM test WHERE normal IS NULL'\n",
    "cur.execute(query)\n",
    "records = cur.fetchall()\n",
    "print(records)"
   ]
  },
  {
   "cell_type": "code",
   "execution_count": 25,
   "metadata": {},
   "outputs": [
    {
     "name": "stdout",
     "output_type": "stream",
     "text": [
      "test/2022-05-12T08_22_39.866Z.wav\n",
      "test/00000024.wav\n",
      "<pydub.audio_segment.AudioSegment object at 0x0000026D95F635B0>\n",
      "test/00000089.wav\n",
      "<pydub.audio_segment.AudioSegment object at 0x0000026D9653E760>\n",
      "test/00000050.wav\n",
      "<pydub.audio_segment.AudioSegment object at 0x0000026D965B96A0>\n",
      "test/00000038.wav\n",
      "<pydub.audio_segment.AudioSegment object at 0x0000026D965B9280>\n",
      "test/00000021.wav\n",
      "<pydub.audio_segment.AudioSegment object at 0x0000026D96547790>\n"
     ]
    }
   ],
   "source": [
    "BUCKET_NAME = \"idp2g7\"\n",
    "ACCESS_KEY_ID = \"\"\n",
    "SECRET_ACCESS_KEY = \"\"\n",
    "s3 = boto3.resource('s3',aws_access_key_id= ACCESS_KEY_ID,aws_secret_access_key= SECRET_ACCESS_KEY)\n",
    "bucket = s3.Bucket(BUCKET_NAME)\n",
    "location = \"ap-southeast-1\"\n",
    "for row in records:\n",
    "    \n",
    "    for obj in bucket.objects.filter(Prefix=\"test/\"):\n",
    "        obj_key = obj.key\n",
    "        obj_url = \"https://%s.s3.%s.amazonaws.com/%s\" % ('idp2g7', location, obj_key)\n",
    "        \n",
    "        if obj_url==row[0]:\n",
    "            print(obj_key)\n",
    "            s3_client = boto3.client('s3',aws_access_key_id= ACCESS_KEY_ID,aws_secret_access_key= SECRET_ACCESS_KEY)\n",
    "            object = s3_client.get_object(Bucket=BUCKET_NAME, Key=obj_key)\n",
    "            data = io.BytesIO(object['Body'].read())\n",
    "            audio = AudioSegment.from_wav(data)\n",
    "            if audio.duration_seconds>5.0:\n",
    "               first_5_seconds = audio[:5000]\n",
    "               first_5_seconds.export(data, format=\"wav\")\n",
    "               print(first_5_seconds)\n",
    "               s3_client.put_object(Body=data, Bucket= BUCKET_NAME, Key=obj_key)"
   ]
  },
  {
   "cell_type": "code",
   "execution_count": 26,
   "metadata": {},
   "outputs": [],
   "source": [
    "JSON_PATH = \"data_nolabel.json\" #change ur json file name here\n",
    "\n",
    "SAMPLE_RATE = 22050\n",
    "TRACK_DURATION = 5  # measured in seconds\n",
    "SAMPLES_PER_TRACK = SAMPLE_RATE * TRACK_DURATION #=220500"
   ]
  },
  {
   "cell_type": "code",
   "execution_count": 27,
   "metadata": {},
   "outputs": [
    {
     "name": "stdout",
     "output_type": "stream",
     "text": [
      "https://s3-ap-southeast-1.amazonaws.com/idp2g7/test/2022-05-12T08_22_39.866Z.wav\n"
     ]
    },
    {
     "name": "stderr",
     "output_type": "stream",
     "text": [
      "<ipython-input-27-a12b01ee5773>:42: FutureWarning: Pass y=[ 0.          0.          0.         ... -0.0036261  -0.00415959\n",
      " -0.00404576], sr=22050 as keyword args. From version 0.10 passing these as positional arguments will result in an error\n",
      "  mfcc = librosa.feature.mfcc(signal[start:finish], sample_rate, n_mfcc=num_mfcc, n_fft=n_fft,\n",
      "<ipython-input-27-a12b01ee5773>:42: FutureWarning: Pass y=[-0.00378364 -0.00410711 -0.00435738 ...  0.00616344  0.00568677\n",
      "  0.0053805 ], sr=22050 as keyword args. From version 0.10 passing these as positional arguments will result in an error\n",
      "  mfcc = librosa.feature.mfcc(signal[start:finish], sample_rate, n_mfcc=num_mfcc, n_fft=n_fft,\n",
      "<ipython-input-27-a12b01ee5773>:42: FutureWarning: Pass y=[0.0058974  0.00646743 0.00675966 ... 0.01187905 0.01189297 0.01150639], sr=22050 as keyword args. From version 0.10 passing these as positional arguments will result in an error\n",
      "  mfcc = librosa.feature.mfcc(signal[start:finish], sample_rate, n_mfcc=num_mfcc, n_fft=n_fft,\n",
      "<ipython-input-27-a12b01ee5773>:42: FutureWarning: Pass y=[0.01100768 0.01048572 0.0097589  ... 0.01397923 0.01436484 0.0121703 ], sr=22050 as keyword args. From version 0.10 passing these as positional arguments will result in an error\n",
      "  mfcc = librosa.feature.mfcc(signal[start:finish], sample_rate, n_mfcc=num_mfcc, n_fft=n_fft,\n",
      "<ipython-input-27-a12b01ee5773>:42: FutureWarning: Pass y=[ 0.00927927  0.00933123  0.00976789 ... -0.01880561 -0.01809465\n",
      " -0.01825866], sr=22050 as keyword args. From version 0.10 passing these as positional arguments will result in an error\n",
      "  mfcc = librosa.feature.mfcc(signal[start:finish], sample_rate, n_mfcc=num_mfcc, n_fft=n_fft,\n"
     ]
    },
    {
     "name": "stdout",
     "output_type": "stream",
     "text": [
      "https://idp2g7.s3.ap-southeast-1.amazonaws.com/test/2022-05-12T08_22_39.866Z.wav,segment:1\n",
      "(44, 13)\n",
      "https://idp2g7.s3.ap-southeast-1.amazonaws.com/test/2022-05-12T08_22_39.866Z.wav,segment:2\n",
      "(44, 13)\n",
      "https://idp2g7.s3.ap-southeast-1.amazonaws.com/test/2022-05-12T08_22_39.866Z.wav,segment:3\n",
      "(44, 13)\n",
      "https://idp2g7.s3.ap-southeast-1.amazonaws.com/test/2022-05-12T08_22_39.866Z.wav,segment:4\n",
      "(44, 13)\n",
      "https://idp2g7.s3.ap-southeast-1.amazonaws.com/test/2022-05-12T08_22_39.866Z.wav,segment:5\n",
      "(44, 13)\n",
      "https://s3-ap-southeast-1.amazonaws.com/idp2g7/test/00000024.wav\n"
     ]
    },
    {
     "name": "stderr",
     "output_type": "stream",
     "text": [
      "<ipython-input-27-a12b01ee5773>:42: FutureWarning: Pass y=[0.00169874 0.0015052  0.00063893 ... 0.0049383  0.00393412 0.00290541], sr=22050 as keyword args. From version 0.10 passing these as positional arguments will result in an error\n",
      "  mfcc = librosa.feature.mfcc(signal[start:finish], sample_rate, n_mfcc=num_mfcc, n_fft=n_fft,\n",
      "<ipython-input-27-a12b01ee5773>:42: FutureWarning: Pass y=[0.00229612 0.00194866 0.0016574  ... 0.00101963 0.00137369 0.00188979], sr=22050 as keyword args. From version 0.10 passing these as positional arguments will result in an error\n",
      "  mfcc = librosa.feature.mfcc(signal[start:finish], sample_rate, n_mfcc=num_mfcc, n_fft=n_fft,\n",
      "<ipython-input-27-a12b01ee5773>:42: FutureWarning: Pass y=[ 0.00226229  0.00255255  0.00262178 ... -0.00321089 -0.00331741\n",
      " -0.00327143], sr=22050 as keyword args. From version 0.10 passing these as positional arguments will result in an error\n",
      "  mfcc = librosa.feature.mfcc(signal[start:finish], sample_rate, n_mfcc=num_mfcc, n_fft=n_fft,\n",
      "<ipython-input-27-a12b01ee5773>:42: FutureWarning: Pass y=[-0.00331369 -0.00330868 -0.00313868 ...  0.00189185  0.00330358\n",
      "  0.00110282], sr=22050 as keyword args. From version 0.10 passing these as positional arguments will result in an error\n",
      "  mfcc = librosa.feature.mfcc(signal[start:finish], sample_rate, n_mfcc=num_mfcc, n_fft=n_fft,\n",
      "<ipython-input-27-a12b01ee5773>:42: FutureWarning: Pass y=[6.5712084e-05 2.0540312e-03 2.1279908e-03 ... 8.2152616e-03 1.0014628e-02\n",
      " 5.7096579e-03], sr=22050 as keyword args. From version 0.10 passing these as positional arguments will result in an error\n",
      "  mfcc = librosa.feature.mfcc(signal[start:finish], sample_rate, n_mfcc=num_mfcc, n_fft=n_fft,\n"
     ]
    },
    {
     "name": "stdout",
     "output_type": "stream",
     "text": [
      "https://idp2g7.s3.ap-southeast-1.amazonaws.com/test/00000024.wav,segment:1\n",
      "(44, 13)\n",
      "https://idp2g7.s3.ap-southeast-1.amazonaws.com/test/00000024.wav,segment:2\n",
      "(44, 13)\n",
      "https://idp2g7.s3.ap-southeast-1.amazonaws.com/test/00000024.wav,segment:3\n",
      "(44, 13)\n",
      "https://idp2g7.s3.ap-southeast-1.amazonaws.com/test/00000024.wav,segment:4\n",
      "(44, 13)\n",
      "https://idp2g7.s3.ap-southeast-1.amazonaws.com/test/00000024.wav,segment:5\n",
      "(44, 13)\n",
      "https://s3-ap-southeast-1.amazonaws.com/idp2g7/test/00000089.wav\n"
     ]
    },
    {
     "name": "stderr",
     "output_type": "stream",
     "text": [
      "<ipython-input-27-a12b01ee5773>:42: FutureWarning: Pass y=[ 0.00368442  0.00402274  0.00367285 ... -0.0015267  -0.00211792\n",
      " -0.00298736], sr=22050 as keyword args. From version 0.10 passing these as positional arguments will result in an error\n",
      "  mfcc = librosa.feature.mfcc(signal[start:finish], sample_rate, n_mfcc=num_mfcc, n_fft=n_fft,\n",
      "<ipython-input-27-a12b01ee5773>:42: FutureWarning: Pass y=[-3.2587661e-03 -2.7563220e-03 -2.6715419e-03 ...  2.6543162e-04\n",
      " -9.0458780e-05 -5.1264348e-04], sr=22050 as keyword args. From version 0.10 passing these as positional arguments will result in an error\n",
      "  mfcc = librosa.feature.mfcc(signal[start:finish], sample_rate, n_mfcc=num_mfcc, n_fft=n_fft,\n",
      "<ipython-input-27-a12b01ee5773>:42: FutureWarning: Pass y=[-0.00084556 -0.00102009 -0.00095855 ...  0.00032096  0.00017378\n",
      " -0.00050227], sr=22050 as keyword args. From version 0.10 passing these as positional arguments will result in an error\n",
      "  mfcc = librosa.feature.mfcc(signal[start:finish], sample_rate, n_mfcc=num_mfcc, n_fft=n_fft,\n",
      "<ipython-input-27-a12b01ee5773>:42: FutureWarning: Pass y=[-0.00048313 -0.00020041 -0.00047553 ... -0.00235028 -0.00344163\n",
      " -0.0038727 ], sr=22050 as keyword args. From version 0.10 passing these as positional arguments will result in an error\n",
      "  mfcc = librosa.feature.mfcc(signal[start:finish], sample_rate, n_mfcc=num_mfcc, n_fft=n_fft,\n",
      "<ipython-input-27-a12b01ee5773>:42: FutureWarning: Pass y=[-0.00346922 -0.00369403 -0.00385136 ... -0.00244788 -0.00294041\n",
      " -0.00198276], sr=22050 as keyword args. From version 0.10 passing these as positional arguments will result in an error\n",
      "  mfcc = librosa.feature.mfcc(signal[start:finish], sample_rate, n_mfcc=num_mfcc, n_fft=n_fft,\n"
     ]
    },
    {
     "name": "stdout",
     "output_type": "stream",
     "text": [
      "https://idp2g7.s3.ap-southeast-1.amazonaws.com/test/00000089.wav,segment:1\n",
      "(44, 13)\n",
      "https://idp2g7.s3.ap-southeast-1.amazonaws.com/test/00000089.wav,segment:2\n",
      "(44, 13)\n",
      "https://idp2g7.s3.ap-southeast-1.amazonaws.com/test/00000089.wav,segment:3\n",
      "(44, 13)\n",
      "https://idp2g7.s3.ap-southeast-1.amazonaws.com/test/00000089.wav,segment:4\n",
      "(44, 13)\n",
      "https://idp2g7.s3.ap-southeast-1.amazonaws.com/test/00000089.wav,segment:5\n",
      "(44, 13)\n",
      "https://s3-ap-southeast-1.amazonaws.com/idp2g7/test/00000050.wav\n"
     ]
    },
    {
     "name": "stderr",
     "output_type": "stream",
     "text": [
      "<ipython-input-27-a12b01ee5773>:42: FutureWarning: Pass y=[-1.8637506e-03 -1.8744306e-03  5.2148069e-05 ... -3.5190918e-03\n",
      " -2.9808735e-03 -2.6583723e-03], sr=22050 as keyword args. From version 0.10 passing these as positional arguments will result in an error\n",
      "  mfcc = librosa.feature.mfcc(signal[start:finish], sample_rate, n_mfcc=num_mfcc, n_fft=n_fft,\n",
      "<ipython-input-27-a12b01ee5773>:42: FutureWarning: Pass y=[-3.0026580e-03 -3.6382629e-03 -3.8351233e-03 ... -1.5062601e-03\n",
      " -5.9976446e-05  1.0431972e-03], sr=22050 as keyword args. From version 0.10 passing these as positional arguments will result in an error\n",
      "  mfcc = librosa.feature.mfcc(signal[start:finish], sample_rate, n_mfcc=num_mfcc, n_fft=n_fft,\n",
      "<ipython-input-27-a12b01ee5773>:42: FutureWarning: Pass y=[-7.2533148e-05 -8.1385206e-04 -1.3928491e-04 ...  1.7126806e-03\n",
      "  1.4865132e-03  3.5644732e-03], sr=22050 as keyword args. From version 0.10 passing these as positional arguments will result in an error\n",
      "  mfcc = librosa.feature.mfcc(signal[start:finish], sample_rate, n_mfcc=num_mfcc, n_fft=n_fft,\n",
      "<ipython-input-27-a12b01ee5773>:42: FutureWarning: Pass y=[0.00396273 0.00265729 0.00319514 ... 0.00074172 0.0007873  0.00055223], sr=22050 as keyword args. From version 0.10 passing these as positional arguments will result in an error\n",
      "  mfcc = librosa.feature.mfcc(signal[start:finish], sample_rate, n_mfcc=num_mfcc, n_fft=n_fft,\n",
      "<ipython-input-27-a12b01ee5773>:42: FutureWarning: Pass y=[ 2.8060627e-04 -3.0307041e-05 -3.1659455e-04 ... -4.7513964e-03\n",
      " -5.5740681e-03 -3.6264937e-03], sr=22050 as keyword args. From version 0.10 passing these as positional arguments will result in an error\n",
      "  mfcc = librosa.feature.mfcc(signal[start:finish], sample_rate, n_mfcc=num_mfcc, n_fft=n_fft,\n"
     ]
    },
    {
     "name": "stdout",
     "output_type": "stream",
     "text": [
      "https://idp2g7.s3.ap-southeast-1.amazonaws.com/test/00000050.wav,segment:1\n",
      "(44, 13)\n",
      "https://idp2g7.s3.ap-southeast-1.amazonaws.com/test/00000050.wav,segment:2\n",
      "(44, 13)\n",
      "https://idp2g7.s3.ap-southeast-1.amazonaws.com/test/00000050.wav,segment:3\n",
      "(44, 13)\n",
      "https://idp2g7.s3.ap-southeast-1.amazonaws.com/test/00000050.wav,segment:4\n",
      "(44, 13)\n",
      "https://idp2g7.s3.ap-southeast-1.amazonaws.com/test/00000050.wav,segment:5\n",
      "(44, 13)\n",
      "https://s3-ap-southeast-1.amazonaws.com/idp2g7/test/00000038.wav\n"
     ]
    },
    {
     "name": "stderr",
     "output_type": "stream",
     "text": [
      "<ipython-input-27-a12b01ee5773>:42: FutureWarning: Pass y=[-0.0002498  -0.00042269 -0.00052396 ...  0.00302231  0.00259873\n",
      "  0.00271545], sr=22050 as keyword args. From version 0.10 passing these as positional arguments will result in an error\n",
      "  mfcc = librosa.feature.mfcc(signal[start:finish], sample_rate, n_mfcc=num_mfcc, n_fft=n_fft,\n",
      "<ipython-input-27-a12b01ee5773>:42: FutureWarning: Pass y=[ 0.0025398   0.00251675  0.00304841 ...  0.00025461  0.00018576\n",
      " -0.00014587], sr=22050 as keyword args. From version 0.10 passing these as positional arguments will result in an error\n",
      "  mfcc = librosa.feature.mfcc(signal[start:finish], sample_rate, n_mfcc=num_mfcc, n_fft=n_fft,\n",
      "<ipython-input-27-a12b01ee5773>:42: FutureWarning: Pass y=[-0.00030832  0.00017003  0.00043446 ...  0.0012856   0.00108846\n",
      "  0.00090159], sr=22050 as keyword args. From version 0.10 passing these as positional arguments will result in an error\n",
      "  mfcc = librosa.feature.mfcc(signal[start:finish], sample_rate, n_mfcc=num_mfcc, n_fft=n_fft,\n",
      "<ipython-input-27-a12b01ee5773>:42: FutureWarning: Pass y=[0.00062037 0.00084087 0.00050004 ... 0.00044419 0.00082378 0.00069058], sr=22050 as keyword args. From version 0.10 passing these as positional arguments will result in an error\n",
      "  mfcc = librosa.feature.mfcc(signal[start:finish], sample_rate, n_mfcc=num_mfcc, n_fft=n_fft,\n",
      "<ipython-input-27-a12b01ee5773>:42: FutureWarning: Pass y=[0.00042053 0.00076407 0.00056854 ... 0.00293447 0.002742   0.00174357], sr=22050 as keyword args. From version 0.10 passing these as positional arguments will result in an error\n",
      "  mfcc = librosa.feature.mfcc(signal[start:finish], sample_rate, n_mfcc=num_mfcc, n_fft=n_fft,\n"
     ]
    },
    {
     "name": "stdout",
     "output_type": "stream",
     "text": [
      "https://idp2g7.s3.ap-southeast-1.amazonaws.com/test/00000038.wav,segment:1\n",
      "(44, 13)\n",
      "https://idp2g7.s3.ap-southeast-1.amazonaws.com/test/00000038.wav,segment:2\n",
      "(44, 13)\n",
      "https://idp2g7.s3.ap-southeast-1.amazonaws.com/test/00000038.wav,segment:3\n",
      "(44, 13)\n",
      "https://idp2g7.s3.ap-southeast-1.amazonaws.com/test/00000038.wav,segment:4\n",
      "(44, 13)\n",
      "https://idp2g7.s3.ap-southeast-1.amazonaws.com/test/00000038.wav,segment:5\n",
      "(44, 13)\n",
      "https://s3-ap-southeast-1.amazonaws.com/idp2g7/test/00000021.wav\n",
      "https://idp2g7.s3.ap-southeast-1.amazonaws.com/test/00000021.wav,segment:1\n",
      "(44, 13)\n",
      "https://idp2g7.s3.ap-southeast-1.amazonaws.com/test/00000021.wav,segment:2\n",
      "(44, 13)\n",
      "https://idp2g7.s3.ap-southeast-1.amazonaws.com/test/00000021.wav,segment:3\n",
      "(44, 13)\n",
      "https://idp2g7.s3.ap-southeast-1.amazonaws.com/test/00000021.wav,segment:4\n",
      "(44, 13)\n",
      "https://idp2g7.s3.ap-southeast-1.amazonaws.com/test/00000021.wav,segment:5\n",
      "(44, 13)\n"
     ]
    },
    {
     "name": "stderr",
     "output_type": "stream",
     "text": [
      "<ipython-input-27-a12b01ee5773>:42: FutureWarning: Pass y=[ 0.00089866 -0.00067046 -0.00205141 ...  0.0025769   0.00272186\n",
      "  0.00304931], sr=22050 as keyword args. From version 0.10 passing these as positional arguments will result in an error\n",
      "  mfcc = librosa.feature.mfcc(signal[start:finish], sample_rate, n_mfcc=num_mfcc, n_fft=n_fft,\n",
      "<ipython-input-27-a12b01ee5773>:42: FutureWarning: Pass y=[0.00324064 0.0029401  0.00256705 ... 0.000474   0.00030398 0.00024171], sr=22050 as keyword args. From version 0.10 passing these as positional arguments will result in an error\n",
      "  mfcc = librosa.feature.mfcc(signal[start:finish], sample_rate, n_mfcc=num_mfcc, n_fft=n_fft,\n",
      "<ipython-input-27-a12b01ee5773>:42: FutureWarning: Pass y=[ 0.00062823  0.00031399 -0.00052389 ...  0.00137182  0.00212436\n",
      "  0.00312665], sr=22050 as keyword args. From version 0.10 passing these as positional arguments will result in an error\n",
      "  mfcc = librosa.feature.mfcc(signal[start:finish], sample_rate, n_mfcc=num_mfcc, n_fft=n_fft,\n",
      "<ipython-input-27-a12b01ee5773>:42: FutureWarning: Pass y=[0.00238162 0.00084488 0.0005113  ... 0.00137751 0.00120141 0.00126973], sr=22050 as keyword args. From version 0.10 passing these as positional arguments will result in an error\n",
      "  mfcc = librosa.feature.mfcc(signal[start:finish], sample_rate, n_mfcc=num_mfcc, n_fft=n_fft,\n",
      "<ipython-input-27-a12b01ee5773>:42: FutureWarning: Pass y=[ 1.2882566e-03  1.0543554e-03  1.4565722e-03 ... -5.1777181e-04\n",
      " -2.7557282e-04 -6.4342748e-05], sr=22050 as keyword args. From version 0.10 passing these as positional arguments will result in an error\n",
      "  mfcc = librosa.feature.mfcc(signal[start:finish], sample_rate, n_mfcc=num_mfcc, n_fft=n_fft,\n"
     ]
    }
   ],
   "source": [
    "def save_mfcc(json_path, num_mfcc=13, n_fft=2048, hop_length=512,num_segments=5):\n",
    "    \"\"\"Extracts MFCCs from audio and saves them into a json file\n",
    "        :param json_path (str): Path to json file used to save MFCCs\n",
    "        :param num_mfcc (int): Number of coefficients to extract\n",
    "        :param n_fft (int): Interval we consider to apply FFT. Measured in # of samples\n",
    "        :param hop_length (int): Sliding window for FFT. Measured in # of samples\n",
    "        :param: num_segments (int): Number of segments we want to divide sample tracks into\n",
    "        :return:\n",
    "        \"\"\"\n",
    "\n",
    "    # dictionary to store mapping, labels, and MFCCs\n",
    "    data = {\n",
    "        \"mfcc\": [],\n",
    "        \"obj_url\": []\n",
    "    }\n",
    "\n",
    "    samples_per_segment = int(SAMPLES_PER_TRACK / num_segments) #=44100\n",
    "    num_mfcc_vectors_per_segment = math.ceil(samples_per_segment/ hop_length) #=87\n",
    "    \n",
    "    # loop through all genre sub-folder\n",
    "    for row in records:\n",
    "        for obj in bucket.objects.filter(Prefix=\"test/\"):\n",
    "            obj_key = obj.key\n",
    "            obj_url = \"https://%s.s3.%s.amazonaws.com/%s\" % ('idp2g7', location, obj_key)\n",
    "    \n",
    "        \n",
    "            if row[0]==obj_url:\n",
    "                url = \"https://s3-%s.amazonaws.com/%s/%s\" % (location, 'idp2g7', obj_key)\n",
    "                print(url)\n",
    "                signal, sample_rate = sf.read(io.BytesIO(urlopen(url).read()),dtype='float32')\n",
    "                signal = signal.T\n",
    "                signal = librosa.resample(signal, orig_sr=16000, target_sr=SAMPLE_RATE)\n",
    "                signal = librosa.to_mono(signal)\n",
    "                sample_rate = SAMPLE_RATE\n",
    "\n",
    "                for d in range(num_segments):\n",
    "                # calculate start and finish sample for current segment\n",
    "                    start = samples_per_segment*d\n",
    "                    finish = start+samples_per_segment\n",
    "\n",
    "                # extract mfcc\n",
    "                    mfcc = librosa.feature.mfcc(signal[start:finish], sample_rate, n_mfcc=num_mfcc, n_fft=n_fft,\n",
    "                                                hop_length=hop_length)\n",
    "                    mfcc = mfcc.T\n",
    "\n",
    "                # store only mfcc feature with expected number of vectors\n",
    "                    if len(mfcc) == num_mfcc_vectors_per_segment:\n",
    "                        data[\"mfcc\"].append(mfcc.tolist())\n",
    "                        data[\"obj_url\"].append(obj_url)\n",
    "                        print(\"{},segment:{}\".format(row[0],d+1))\n",
    "                        print(mfcc.shape)\n",
    "\n",
    "    # save MFCCs to json file\n",
    "    with open(json_path, \"w\") as fp:\n",
    "        json.dump(data, fp, indent=4)\n",
    "\n",
    "\n",
    "if __name__ == \"__main__\":\n",
    "    save_mfcc(JSON_PATH)\n",
    "    \n",
    "\n"
   ]
  },
  {
   "cell_type": "code",
   "execution_count": 9,
   "metadata": {},
   "outputs": [],
   "source": [
    "import mysql.connector\n",
    "\n",
    "def save_prediction(file_name,prediction): # fileneame must exist in database\n",
    "    conn = mysql.connector.connect(user='9rBnbH2yWN', password='obqUHk85vy', host='remotemysql.com', database='9rBnbH2yWN')\n",
    "    cursor = conn.cursor()\n",
    "    cursor.execute(\"UPDATE test SET normal = %s ,fault = %s WHERE filename = %s\",(prediction[0],prediction[1],file_name))\n",
    "    conn.commit()\n",
    "    conn.close()\n",
    "\n",
    "# normal col(normal:0, abnormal:1), fault col(type 1-5,0 for no fault or \"normal\")\n",
    "prediction_example = [1,3]\n",
    "save_prediction(\"00000025.wav\",prediction_example)\n"
   ]
  },
  {
   "cell_type": "code",
   "execution_count": 20,
   "metadata": {},
   "outputs": [
    {
     "name": "stdout",
     "output_type": "stream",
     "text": [
      "[4 4 5 5 4]\n",
      "9\n"
     ]
    }
   ],
   "source": [
    "import numpy as np\n",
    "myprediction = [4,4,5,5,4,9,8,9,9,8]\n",
    "x = len(myprediction)/5\n",
    "myprediction = np.array_split(myprediction, x)\n",
    "print(myprediction[0])\n",
    "print(np.bincount(myprediction[1]).argmax())"
   ]
  },
  {
   "cell_type": "code",
   "execution_count": 30,
   "metadata": {},
   "outputs": [
    {
     "name": "stdout",
     "output_type": "stream",
     "text": [
      "2022-05-12T08_22_39.866Z.wav\n",
      "00000024.wav\n",
      "00000089.wav\n",
      "00000050.wav\n",
      "00000038.wav\n",
      "00000021.wav\n"
     ]
    }
   ],
   "source": [
    "conn = mysql.connector.connect(user='9rBnbH2yWN', password='obqUHk85vy', host='remotemysql.com', database='9rBnbH2yWN')\n",
    "cursor = conn.cursor()\n",
    "cursor.execute(\"SELECT filename FROM test WHERE normal IS NULL\") \n",
    "records = cursor.fetchall()\n",
    "#print(records)\n",
    "#print(str(records[0][0]))\n",
    "\n",
    "for row in records:\n",
    "    print(row[0])"
   ]
  }
 ],
 "metadata": {
  "interpreter": {
   "hash": "ca780507fffae217a90ac822ae3f00bacb234becbeeec5ab3307f08a4b42573b"
  },
  "kernelspec": {
   "display_name": "Python 3.8.5 ('base')",
   "language": "python",
   "name": "python3"
  },
  "language_info": {
   "codemirror_mode": {
    "name": "ipython",
    "version": 3
   },
   "file_extension": ".py",
   "mimetype": "text/x-python",
   "name": "python",
   "nbconvert_exporter": "python",
   "pygments_lexer": "ipython3",
   "version": "3.8.5"
  }
 },
 "nbformat": 4,
 "nbformat_minor": 4
}
