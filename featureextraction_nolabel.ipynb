{
 "cells": [
  {
   "cell_type": "code",
   "execution_count": 57,
   "metadata": {},
   "outputs": [],
   "source": [
    "import json\n",
    "import os\n",
    "import math\n",
    "import librosa\n",
    "import boto3\n",
    "import soundfile as sf\n",
    "from pydub import AudioSegment\n",
    "from app import *\n",
    "from flask_mysqldb import MySQL\n",
    "from io import BytesIO\n",
    "import io\n",
    "from werkzeug.utils import secure_filename\n",
    "from six.moves.urllib.request import urlopen"
   ]
  },
  {
   "cell_type": "code",
   "execution_count": 58,
   "metadata": {},
   "outputs": [
    {
     "name": "stdout",
     "output_type": "stream",
     "text": [
      "(('https://idp2g7.s3.ap-southeast-1.amazonaws.com/test/00000000.wav',),)\n"
     ]
    }
   ],
   "source": [
    "with app.app_context():\n",
    "     cur = mysql.connection.cursor()\n",
    "     app.config['MYSQL_HOST'] = '192.168.0.100'\n",
    "     app.config['MYSQL_USER'] = 'idp'\n",
    "     app.config['MYSQL_PASSWORD'] = 'idp2g7'\n",
    "     app.config['MYSQL_DB'] = 'idp2g7'\n",
    "     query = 'SELECT s3_object_url FROM test WHERE normal IS NULL'\n",
    "     cur.execute(query)\n",
    "     records = cur.fetchall()\n",
    "     print(records)"
   ]
  },
  {
   "cell_type": "code",
   "execution_count": 88,
   "metadata": {},
   "outputs": [
    {
     "name": "stdout",
     "output_type": "stream",
     "text": [
      "test/00000000.wav\n"
     ]
    }
   ],
   "source": [
    "BUCKET_NAME = \"idp2g7\"\n",
    "ACCESS_KEY_ID = \"\"\n",
    "SECRET_ACCESS_KEY = \"\"\n",
    "s3 = boto3.resource('s3',aws_access_key_id= ACCESS_KEY_ID,aws_secret_access_key= SECRET_ACCESS_KEY)\n",
    "bucket = s3.Bucket(BUCKET_NAME)\n",
    "location = \"ap-southeast-1\"\n",
    "for row in records:\n",
    "    \n",
    "    for obj in bucket.objects.filter(Prefix=\"test/\"):\n",
    "        obj_key = obj.key\n",
    "        obj_url = \"https://%s.s3.%s.amazonaws.com/%s\" % ('idp2g7', location, obj_key)\n",
    "        \n",
    "        if obj_url==row[0]:\n",
    "            print(obj_key)\n",
    "            s3_client = boto3.client('s3',aws_access_key_id= ACCESS_KEY_ID,aws_secret_access_key= SECRET_ACCESS_KEY)\n",
    "            object = s3_client.get_object(Bucket=BUCKET_NAME, Key=obj_key)\n",
    "            data = io.BytesIO(object['Body'].read())\n",
    "            audio = AudioSegment.from_wav(data)\n",
    "            if audio.duration_seconds>5.0:\n",
    "               first_5_seconds = audio[:5000]\n",
    "               first_5_seconds.export(data, format=\"wav\")\n",
    "               print(first_5_seconds)\n",
    "               s3_client.put_object(Body=data, Bucket= BUCKET_NAME, Key=obj_key)"
   ]
  },
  {
   "cell_type": "code",
   "execution_count": 81,
   "metadata": {},
   "outputs": [],
   "source": [
    "JSON_PATH = \"data_nolabel.json\" #change ur json file name here\n",
    "\n",
    "SAMPLE_RATE = 22050\n",
    "TRACK_DURATION = 5  # measured in seconds\n",
    "SAMPLES_PER_TRACK = SAMPLE_RATE * TRACK_DURATION #=220500"
   ]
  },
  {
   "cell_type": "code",
   "execution_count": 90,
   "metadata": {},
   "outputs": [
    {
     "name": "stdout",
     "output_type": "stream",
     "text": [
      "https://s3-ap-southeast-1.amazonaws.com/idp2g7/test/00000000.wav\n",
      "https://idp2g7.s3.ap-southeast-1.amazonaws.com/test/00000000.wav\n",
      "(216, 13)\n"
     ]
    },
    {
     "name": "stderr",
     "output_type": "stream",
     "text": [
      "<ipython-input-90-828bc0366402>:41: FutureWarning: Pass y=[ 0.03937753 -0.00297339 -0.02199767 ...  0.00576363  0.00666459\n",
      "  0.00430795], sr=22050 as keyword args. From version 0.10 passing these as positional arguments will result in an error\n",
      "  mfcc = librosa.feature.mfcc(signal[start:finish], sample_rate, n_mfcc=num_mfcc, n_fft=n_fft,\n"
     ]
    }
   ],
   "source": [
    "def save_mfcc(json_path, num_mfcc=13, n_fft=2048, hop_length=512):\n",
    "    \"\"\"Extracts MFCCs from audio and saves them into a json file\n",
    "        :param json_path (str): Path to json file used to save MFCCs\n",
    "        :param num_mfcc (int): Number of coefficients to extract\n",
    "        :param n_fft (int): Interval we consider to apply FFT. Measured in # of samples\n",
    "        :param hop_length (int): Sliding window for FFT. Measured in # of samples\n",
    "        :param: num_segments (int): Number of segments we want to divide sample tracks into\n",
    "        :return:\n",
    "        \"\"\"\n",
    "\n",
    "    # dictionary to store mapping, labels, and MFCCs\n",
    "    data = {\n",
    "        \"mfcc\": [],\n",
    "        \"obj_url\": []\n",
    "    }\n",
    "\n",
    "    #samples_per_segment = int(SAMPLES_PER_TRACK / num_segments) #=44100\n",
    "    num_mfcc_vectors_per_track = math.ceil(SAMPLES_PER_TRACK/ hop_length) #=87\n",
    "\n",
    "    # loop through all genre sub-folder\n",
    "    for row in records:\n",
    "        for obj in bucket.objects.filter(Prefix=\"test/\"):\n",
    "            obj_key = obj.key\n",
    "            obj_url = \"https://%s.s3.%s.amazonaws.com/%s\" % ('idp2g7', location, obj_key)\n",
    "    \n",
    "        \n",
    "            if row[0]==obj_url:\n",
    "                url = \"https://s3-%s.amazonaws.com/%s/%s\" % (location, 'idp2g7', obj_key)\n",
    "                print(url)\n",
    "                signal, sample_rate = sf.read(io.BytesIO(urlopen(url).read()),dtype='float32')\n",
    "                signal = signal.T\n",
    "                signal = librosa.resample(signal, orig_sr=16000, target_sr=SAMPLE_RATE)\n",
    "                signal = librosa.to_mono(signal)\n",
    "                sample_rate = SAMPLE_RATE\n",
    "\n",
    "                # calculate start and finish sample for current segment\n",
    "                start = 0\n",
    "                finish = SAMPLES_PER_TRACK\n",
    "\n",
    "                # extract mfcc\n",
    "                mfcc = librosa.feature.mfcc(signal[start:finish], sample_rate, n_mfcc=num_mfcc, n_fft=n_fft,\n",
    "                                                hop_length=hop_length)\n",
    "                mfcc = mfcc.T\n",
    "\n",
    "                # store only mfcc feature with expected number of vectors\n",
    "                if len(mfcc) == num_mfcc_vectors_per_track:\n",
    "                    data[\"mfcc\"].append(mfcc.tolist())\n",
    "                    data[\"obj_url\"].append(obj_url)\n",
    "                    print(\"{}\".format(row[0]))\n",
    "                    print(mfcc.shape)\n",
    "\n",
    "    # save MFCCs to json file\n",
    "    with open(json_path, \"w\") as fp:\n",
    "        json.dump(data, fp, indent=4)\n",
    "\n",
    "\n",
    "if __name__ == \"__main__\":\n",
    "    save_mfcc(JSON_PATH)\n",
    "    \n",
    "\n"
   ]
  },
  {
   "cell_type": "code",
   "execution_count": null,
   "metadata": {},
   "outputs": [],
   "source": []
  }
 ],
 "metadata": {
  "kernelspec": {
   "display_name": "Python 3",
   "language": "python",
   "name": "python3"
  },
  "language_info": {
   "codemirror_mode": {
    "name": "ipython",
    "version": 3
   },
   "file_extension": ".py",
   "mimetype": "text/x-python",
   "name": "python",
   "nbconvert_exporter": "python",
   "pygments_lexer": "ipython3",
   "version": "3.8.5"
  }
 },
 "nbformat": 4,
 "nbformat_minor": 4
}
